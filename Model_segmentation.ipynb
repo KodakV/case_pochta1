{
  "nbformat": 4,
  "nbformat_minor": 0,
  "metadata": {
    "colab": {
      "name": "Model_segmentation.ipynb",
      "provenance": [],
      "collapsed_sections": [],
      "authorship_tag": "ABX9TyML2AkFi97IJdlLucVBLe/j",
      "include_colab_link": true
    },
    "kernelspec": {
      "name": "python3",
      "display_name": "Python 3"
    }
  },
  "cells": [
    {
      "cell_type": "markdown",
      "metadata": {
        "id": "view-in-github",
        "colab_type": "text"
      },
      "source": [
        "<a href=\"https://colab.research.google.com/github/KodakV/case_pochta1/blob/master/Model_segmentation.ipynb\" target=\"_parent\"><img src=\"https://colab.research.google.com/assets/colab-badge.svg\" alt=\"Open In Colab\"/></a>"
      ]
    },
    {
      "cell_type": "code",
      "metadata": {
        "id": "v3g6EJQdx7_a",
        "colab_type": "code",
        "colab": {}
      },
      "source": [
        "# import\n",
        "import torch\n",
        "import pandas as pd\n",
        "import numpy as np \n",
        "import matplotlib.pyplot as plt\n",
        "import random\n",
        "import seaborn as sns; sns.set()\n",
        "\n",
        "\n",
        "from sklearn.cluster import KMeans\n",
        "from sklearn.model_selection import train_test_split\n",
        "from sklearn.metrics import accuracy_score\n",
        "from sklearn.manifold import TSNE\n",
        "from sklearn import decomposition\n",
        "from sklearn.cluster import SpectralClustering\n",
        "from sklearn.cluster import DBSCAN\n",
        "from sklearn.cluster import AgglomerativeClustering,AffinityPropagation,SpectralClustering\n",
        "from sklearn import preprocessing\n",
        "from sklearn import metrics\n",
        "import datetime\n",
        "from datetime import datetime\n",
        "import time"
      ],
      "execution_count": 478,
      "outputs": []
    },
    {
      "cell_type": "code",
      "metadata": {
        "id": "p8TzjtWryCuW",
        "colab_type": "code",
        "colab": {}
      },
      "source": [
        "# seed\n",
        "random.seed(0)\n",
        "np.random.seed(0)\n",
        "torch.manual_seed(0)\n",
        "torch.cuda.manual_seed(0)\n",
        "torch.backends.cudnn.deterministic = True"
      ],
      "execution_count": 479,
      "outputs": []
    },
    {
      "cell_type": "code",
      "metadata": {
        "id": "NqaY80IgyEeA",
        "colab_type": "code",
        "colab": {}
      },
      "source": [
        "# data\n",
        "# df=pd.read_csv('/content/Батч 1.xlsx')\n",
        "\n",
        "# batch_nornal - предобработанный бач данных, с нужными фичами\n",
        "df=pd.read_csv('/content/Batch1_normal30.csv',parse_dates=True)\n",
        "df=df.iloc[:50000,:]\n",
        "data_property=['untreated','normal']\n",
        "\n",
        "if df.shape[1]==26:\n",
        "  flag=data_property[1]"
      ],
      "execution_count": 480,
      "outputs": []
    },
    {
      "cell_type": "code",
      "metadata": {
        "id": "UiYiOy2-E_bR",
        "colab_type": "code",
        "colab": {}
      },
      "source": [
        "# df_2=pd.read_excel('/content/select_p_hid_p_dt_p_sender_index_p_re (1).csv',parse_dates=True)"
      ],
      "execution_count": 481,
      "outputs": []
    },
    {
      "cell_type": "code",
      "metadata": {
        "id": "e_myxXJByE5K",
        "colab_type": "code",
        "colab": {
          "base_uri": "https://localhost:8080/",
          "height": 477
        },
        "outputId": "795c7d17-3a09-406a-b4d3-0d5c44c5e8b0"
      },
      "source": [
        "df.head(n=5)"
      ],
      "execution_count": 482,
      "outputs": [
        {
          "output_type": "execute_result",
          "data": {
            "text/html": [
              "<div>\n",
              "<style scoped>\n",
              "    .dataframe tbody tr th:only-of-type {\n",
              "        vertical-align: middle;\n",
              "    }\n",
              "\n",
              "    .dataframe tbody tr th {\n",
              "        vertical-align: top;\n",
              "    }\n",
              "\n",
              "    .dataframe thead th {\n",
              "        text-align: right;\n",
              "    }\n",
              "</style>\n",
              "<table border=\"1\" class=\"dataframe\">\n",
              "  <thead>\n",
              "    <tr style=\"text-align: right;\">\n",
              "      <th></th>\n",
              "      <th>Unnamed: 0</th>\n",
              "      <th>Unnamed: 0.1</th>\n",
              "      <th>hid</th>\n",
              "      <th>data</th>\n",
              "      <th>sender_index</th>\n",
              "      <th>recipient_index</th>\n",
              "      <th>weight</th>\n",
              "      <th>cost</th>\n",
              "      <th>summa_OTS</th>\n",
              "      <th>summa_NP</th>\n",
              "      <th>blank_dispatch</th>\n",
              "      <th>parcel_post</th>\n",
              "      <th>accelerated</th>\n",
              "      <th>international</th>\n",
              "      <th>with_advert_value</th>\n",
              "      <th>with_imposition_payment</th>\n",
              "      <th>with_list_of_attachments</th>\n",
              "      <th>caution_mark</th>\n",
              "      <th>sms for sender</th>\n",
              "      <th>sms for recipient</th>\n",
              "      <th>ts</th>\n",
              "      <th>mean_user_cost</th>\n",
              "      <th>count_sum</th>\n",
              "      <th>max_data</th>\n",
              "      <th>ts_delta</th>\n",
              "      <th>sum_cost</th>\n",
              "      <th>activity</th>\n",
              "      <th>solvency</th>\n",
              "    </tr>\n",
              "  </thead>\n",
              "  <tbody>\n",
              "    <tr>\n",
              "      <th>0</th>\n",
              "      <td>0</td>\n",
              "      <td>0</td>\n",
              "      <td>17279630-2e29-4a0d-8f96-f3c932e6bbcb</td>\n",
              "      <td>2020-07-05 00:00:26.036</td>\n",
              "      <td>109469</td>\n",
              "      <td>107241</td>\n",
              "      <td>100.0</td>\n",
              "      <td>173.0</td>\n",
              "      <td>0.0</td>\n",
              "      <td>0.0</td>\n",
              "      <td>0</td>\n",
              "      <td>0</td>\n",
              "      <td>1</td>\n",
              "      <td>0</td>\n",
              "      <td>0</td>\n",
              "      <td>0</td>\n",
              "      <td>0</td>\n",
              "      <td>0</td>\n",
              "      <td>0</td>\n",
              "      <td>0</td>\n",
              "      <td>1593907226</td>\n",
              "      <td>173.0</td>\n",
              "      <td>3</td>\n",
              "      <td>1593908483</td>\n",
              "      <td>173</td>\n",
              "      <td>519.0</td>\n",
              "      <td>6.639367</td>\n",
              "      <td>0.811083</td>\n",
              "    </tr>\n",
              "    <tr>\n",
              "      <th>1</th>\n",
              "      <td>1</td>\n",
              "      <td>1</td>\n",
              "      <td>16971e43-728a-4f66-a93c-3678aa8433cd</td>\n",
              "      <td>2020-07-05 00:03:17.229</td>\n",
              "      <td>390039</td>\n",
              "      <td>125284</td>\n",
              "      <td>1100.0</td>\n",
              "      <td>238.0</td>\n",
              "      <td>0.0</td>\n",
              "      <td>0.0</td>\n",
              "      <td>1</td>\n",
              "      <td>0</td>\n",
              "      <td>0</td>\n",
              "      <td>0</td>\n",
              "      <td>0</td>\n",
              "      <td>0</td>\n",
              "      <td>0</td>\n",
              "      <td>0</td>\n",
              "      <td>0</td>\n",
              "      <td>0</td>\n",
              "      <td>1593907397</td>\n",
              "      <td>238.0</td>\n",
              "      <td>1</td>\n",
              "      <td>1593907397</td>\n",
              "      <td>238</td>\n",
              "      <td>238.0</td>\n",
              "      <td>2.743904</td>\n",
              "      <td>0.730362</td>\n",
              "    </tr>\n",
              "    <tr>\n",
              "      <th>2</th>\n",
              "      <td>2</td>\n",
              "      <td>2</td>\n",
              "      <td>16d739fa-ca72-4b12-b8a1-ae5d91df945f</td>\n",
              "      <td>2020-07-05 00:11:47.671</td>\n",
              "      <td>111250</td>\n",
              "      <td>670033</td>\n",
              "      <td>100.0</td>\n",
              "      <td>173.0</td>\n",
              "      <td>0.0</td>\n",
              "      <td>0.0</td>\n",
              "      <td>1</td>\n",
              "      <td>0</td>\n",
              "      <td>1</td>\n",
              "      <td>0</td>\n",
              "      <td>0</td>\n",
              "      <td>0</td>\n",
              "      <td>0</td>\n",
              "      <td>0</td>\n",
              "      <td>0</td>\n",
              "      <td>0</td>\n",
              "      <td>1593907907</td>\n",
              "      <td>183.5</td>\n",
              "      <td>2</td>\n",
              "      <td>1593979001</td>\n",
              "      <td>183</td>\n",
              "      <td>367.0</td>\n",
              "      <td>180.895936</td>\n",
              "      <td>0.814058</td>\n",
              "    </tr>\n",
              "    <tr>\n",
              "      <th>3</th>\n",
              "      <td>3</td>\n",
              "      <td>3</td>\n",
              "      <td>8182829</td>\n",
              "      <td>2020-07-05 00:12:50.965</td>\n",
              "      <td>105173</td>\n",
              "      <td>183035</td>\n",
              "      <td>2262.0</td>\n",
              "      <td>363.0</td>\n",
              "      <td>0.0</td>\n",
              "      <td>0.0</td>\n",
              "      <td>0</td>\n",
              "      <td>0</td>\n",
              "      <td>0</td>\n",
              "      <td>0</td>\n",
              "      <td>0</td>\n",
              "      <td>0</td>\n",
              "      <td>0</td>\n",
              "      <td>0</td>\n",
              "      <td>0</td>\n",
              "      <td>0</td>\n",
              "      <td>1593907970</td>\n",
              "      <td>311.0</td>\n",
              "      <td>4</td>\n",
              "      <td>1593947921</td>\n",
              "      <td>311</td>\n",
              "      <td>1244.0</td>\n",
              "      <td>102.327526</td>\n",
              "      <td>1.066296</td>\n",
              "    </tr>\n",
              "    <tr>\n",
              "      <th>4</th>\n",
              "      <td>4</td>\n",
              "      <td>4</td>\n",
              "      <td>1645b790-f6f9-4c3f-b92b-eae34e781784</td>\n",
              "      <td>2020-07-05 00:13:05.474</td>\n",
              "      <td>195197</td>\n",
              "      <td>184209</td>\n",
              "      <td>1905.0</td>\n",
              "      <td>338.0</td>\n",
              "      <td>0.0</td>\n",
              "      <td>0.0</td>\n",
              "      <td>0</td>\n",
              "      <td>0</td>\n",
              "      <td>0</td>\n",
              "      <td>0</td>\n",
              "      <td>0</td>\n",
              "      <td>0</td>\n",
              "      <td>0</td>\n",
              "      <td>0</td>\n",
              "      <td>0</td>\n",
              "      <td>0</td>\n",
              "      <td>1593907985</td>\n",
              "      <td>313.0</td>\n",
              "      <td>2</td>\n",
              "      <td>1593907985</td>\n",
              "      <td>313</td>\n",
              "      <td>626.0</td>\n",
              "      <td>2.402656</td>\n",
              "      <td>0.976841</td>\n",
              "    </tr>\n",
              "  </tbody>\n",
              "</table>\n",
              "</div>"
            ],
            "text/plain": [
              "   Unnamed: 0  Unnamed: 0.1  ...    activity  solvency\n",
              "0           0             0  ...    6.639367  0.811083\n",
              "1           1             1  ...    2.743904  0.730362\n",
              "2           2             2  ...  180.895936  0.814058\n",
              "3           3             3  ...  102.327526  1.066296\n",
              "4           4             4  ...    2.402656  0.976841\n",
              "\n",
              "[5 rows x 28 columns]"
            ]
          },
          "metadata": {
            "tags": []
          },
          "execution_count": 482
        }
      ]
    },
    {
      "cell_type": "code",
      "metadata": {
        "id": "mIokrmMZ0uvn",
        "colab_type": "code",
        "colab": {}
      },
      "source": [
        "# Подготовка данных, если загружаются сырые данные\n",
        "if flag=='untreated':\n",
        "  df.rename(columns={'дата оформления': 'data', 'индекс отправителя': 'sender_index',\n",
        "                   'индекс получателя': 'recipient_index','вес (гр)': 'weight','стоимость (руб,коп)': 'cost',\n",
        "                   'сумма ОЦ (руб)': 'summa_OTS', 'сумма НП (руб)':'summa_NP',\n",
        "                   'безбланковая отправка':'blank_dispatch','бандероль':'parcel_post',\n",
        "                   'ускоренное':'accelerated','международное':'international','с объявл. ценностью':'with_advert_value',\n",
        "                   'с налож. платежом':'with_imposition_payment','с описью вложений':'with_list_of_attachments',\n",
        "                   \"отметка 'Осторожно'\":'caution_mark','sms для отправителя':'sms for sender','sms для получателя':'sms for recipient'}, inplace=True)\n",
        "  df=df.fillna(0)\n",
        "  df[\"blank_dispatch\"] = df[\"blank_dispatch\"].astype(int)\n",
        "  df[\"parcel_post\"] = df[\"parcel_post\"].astype(int)\n",
        "  df[\"accelerated\"] = df[\"accelerated\"].astype(int)\n",
        "  df[\"international\"] = df[\"international\"].astype(int)\n",
        "  df[\"with_advert_value\"] = df[\"with_advert_value\"].astype(int)\n",
        "  df[\"with_imposition_payment\"] = df[\"with_imposition_payment\"].astype(int)\n",
        "  df[\"with_list_of_attachments\"] = df[\"with_list_of_attachments\"].astype(int)\n",
        "  df[\"caution_mark\"] = df[\"caution_mark\"].astype(int)\n",
        "  df[\"sms for sender\"] = df[\"with_imposition_payment\"].astype(int)\n",
        "  df[\"sms for recipient\"] = df[\"sms for recipient\"].astype(int)\n",
        "  df['data'] = pd.to_datetime(df['data'], errors='coerce')\n",
        "  df['ts'] = df.data.values.astype(np.int64) // 10 ** 9\n",
        "  df['mean_user_cost']=''\n",
        "  df['count_sum']=''\n",
        "  df['max_data']=''\n",
        "  df['ts_delta']=''\n",
        "  df['sum_cost']=''\n"
      ],
      "execution_count": 483,
      "outputs": []
    },
    {
      "cell_type": "code",
      "metadata": {
        "id": "5umekPdZ1wqF",
        "colab_type": "code",
        "colab": {}
      },
      "source": [
        "if flag=='untreated':\n",
        "  dict_count=df.groupby(['hid'])['data'].count().to_dict()\n",
        "  dict_max_data=df.groupby(['hid'])['ts'].apply(list).apply(np.max).to_dict()\n",
        "  dict_ts_delta=df.groupby('hid')['cost'].apply(list).apply(np.mean).apply(np.mean).to_dict()\n",
        "  dict_mean_cost=df.groupby('hid')['cost'].apply(list).apply(np.mean).to_dict()\n",
        "  dict_sum_cost=df.groupby('hid')['cost'].apply(list).apply(np.sum).to_dict()\n",
        "  for i in df.hid:\n",
        "    df.loc[df['hid']==i,'mean_user_cost']=dict_mean_cost[i]\n",
        "    df.loc[df['hid']==i,'count_sum']=dict_count[i]\n",
        "    df.loc[df['hid']==i,'max_data']=dict_max_data[i]\n",
        "    df.loc[df['hid']==i,'ts_delta']=dict_ts_delta[i]\n",
        "    df.loc[df['hid']==i,'sum_cost']=dict_sum_cost[i]\n",
        "    \n",
        "  df=df.replace('',0)\n",
        "  df[\"mean_user_cost\"] = df[\"mean_user_cost\"].astype(float)\n",
        "  df[\"count_sum\"] = df[\"count_sum\"].astype(int)\n",
        "  df[\"max_data\"] = df[\"max_data\"].astype(int)\n",
        "  df[\"ts_delta\"] = df[\"ts_delta\"].astype(int)\n",
        "  df[\"sum_cost\"] = df[\"sum_cost\"].astype(float)\n"
      ],
      "execution_count": 484,
      "outputs": []
    },
    {
      "cell_type": "code",
      "metadata": {
        "id": "lpFLkQnSCPG8",
        "colab_type": "code",
        "colab": {}
      },
      "source": [
        "# создание метрик\n",
        "if flag=='untreated':\n",
        "  df['activity'] = df.count_sum/df.count_sum.mean() + df.ts_delta.mean()/df.ts_delta + ((df.max_data-df.ts)/df.ts_delta.mean()+1)\n",
        "  df['solvency']=df.sum_cost/df.sum_cost.mean()+df.mean_user_cost/df.mean_user_cost.mean()+df.accelerated*0.2+df.with_advert_value+0.1+df.with_imposition_payment*0.1"
      ],
      "execution_count": 485,
      "outputs": []
    },
    {
      "cell_type": "code",
      "metadata": {
        "id": "2mNzo9mh4sz-",
        "colab_type": "code",
        "colab": {}
      },
      "source": [
        "df['solvency']=df.sum_cost/df.sum_cost.mean()+df.mean_user_cost/df.mean_user_cost.mean()+df.accelerated*0.2+df.with_advert_value+0.1+df.with_imposition_payment*0.1"
      ],
      "execution_count": 486,
      "outputs": []
    },
    {
      "cell_type": "code",
      "metadata": {
        "id": "Uz4BQrqqgqno",
        "colab_type": "code",
        "colab": {
          "base_uri": "https://localhost:8080/",
          "height": 285
        },
        "outputId": "018e95c1-ea59-4b4f-ed25-fc74ea6e6a10"
      },
      "source": [
        "sns_plot = sns.distplot(df['activity'])\n",
        "fig = sns_plot.get_figure()"
      ],
      "execution_count": 487,
      "outputs": [
        {
          "output_type": "display_data",
          "data": {
            "image/png": "[encoded data removed]",
            "text/plain": [
              "<Figure size 432x288 with 1 Axes>"
            ]
          },
          "metadata": {
            "tags": []
          }
        }
      ]
    },
    {
      "cell_type": "code",
      "metadata": {
        "id": "WrFQJ-FlfXEO",
        "colab_type": "code",
        "colab": {
          "base_uri": "https://localhost:8080/",
          "height": 285
        },
        "outputId": "0fe758fe-7c81-4a49-b1d7-4b15248ee50a"
      },
      "source": [
        "sns_plot = sns.distplot(df['solvency'])\n",
        "fig = sns_plot.get_figure()"
      ],
      "execution_count": 488,
      "outputs": [
        {
          "output_type": "display_data",
          "data": {
            "image/png": "[encoded data removed]",
            "text/plain": [
              "<Figure size 432x288 with 1 Axes>"
            ]
          },
          "metadata": {
            "tags": []
          }
        }
      ]
    },
    {
      "cell_type": "code",
      "metadata": {
        "id": "vStFmYpt05Ck",
        "colab_type": "code",
        "colab": {
          "base_uri": "https://localhost:8080/",
          "height": 325
        },
        "outputId": "d80545d7-7079-4f7a-e729-a928c4f32e48"
      },
      "source": [
        "# Описание всего датасета\n",
        "df.describe()"
      ],
      "execution_count": 489,
      "outputs": [
        {
          "output_type": "execute_result",
          "data": {
            "text/html": [
              "<div>\n",
              "<style scoped>\n",
              "    .dataframe tbody tr th:only-of-type {\n",
              "        vertical-align: middle;\n",
              "    }\n",
              "\n",
              "    .dataframe tbody tr th {\n",
              "        vertical-align: top;\n",
              "    }\n",
              "\n",
              "    .dataframe thead th {\n",
              "        text-align: right;\n",
              "    }\n",
              "</style>\n",
              "<table border=\"1\" class=\"dataframe\">\n",
              "  <thead>\n",
              "    <tr style=\"text-align: right;\">\n",
              "      <th></th>\n",
              "      <th>Unnamed: 0</th>\n",
              "      <th>Unnamed: 0.1</th>\n",
              "      <th>sender_index</th>\n",
              "      <th>recipient_index</th>\n",
              "      <th>weight</th>\n",
              "      <th>cost</th>\n",
              "      <th>summa_OTS</th>\n",
              "      <th>summa_NP</th>\n",
              "      <th>blank_dispatch</th>\n",
              "      <th>parcel_post</th>\n",
              "      <th>accelerated</th>\n",
              "      <th>international</th>\n",
              "      <th>with_advert_value</th>\n",
              "      <th>with_imposition_payment</th>\n",
              "      <th>with_list_of_attachments</th>\n",
              "      <th>caution_mark</th>\n",
              "      <th>sms for sender</th>\n",
              "      <th>sms for recipient</th>\n",
              "      <th>ts</th>\n",
              "      <th>mean_user_cost</th>\n",
              "      <th>count_sum</th>\n",
              "      <th>max_data</th>\n",
              "      <th>ts_delta</th>\n",
              "      <th>sum_cost</th>\n",
              "      <th>activity</th>\n",
              "      <th>solvency</th>\n",
              "    </tr>\n",
              "  </thead>\n",
              "  <tbody>\n",
              "    <tr>\n",
              "      <th>count</th>\n",
              "      <td>30000.000000</td>\n",
              "      <td>30000.000000</td>\n",
              "      <td>30000.000000</td>\n",
              "      <td>30000.000000</td>\n",
              "      <td>30000.000000</td>\n",
              "      <td>30000.000000</td>\n",
              "      <td>30000.000000</td>\n",
              "      <td>30000.000000</td>\n",
              "      <td>30000.000000</td>\n",
              "      <td>30000.0</td>\n",
              "      <td>30000.000000</td>\n",
              "      <td>30000.0</td>\n",
              "      <td>30000.000000</td>\n",
              "      <td>30000.000000</td>\n",
              "      <td>30000.000000</td>\n",
              "      <td>30000.000000</td>\n",
              "      <td>30000.000000</td>\n",
              "      <td>30000.000000</td>\n",
              "      <td>3.000000e+04</td>\n",
              "      <td>30000.000000</td>\n",
              "      <td>30000.000000</td>\n",
              "      <td>3.000000e+04</td>\n",
              "      <td>30000.000000</td>\n",
              "      <td>30000.000000</td>\n",
              "      <td>30000.000000</td>\n",
              "      <td>30000.000000</td>\n",
              "    </tr>\n",
              "    <tr>\n",
              "      <th>mean</th>\n",
              "      <td>14999.500000</td>\n",
              "      <td>14999.500000</td>\n",
              "      <td>378434.472200</td>\n",
              "      <td>413138.978367</td>\n",
              "      <td>1778.872267</td>\n",
              "      <td>400.680314</td>\n",
              "      <td>676.895033</td>\n",
              "      <td>575.976767</td>\n",
              "      <td>0.718533</td>\n",
              "      <td>0.0</td>\n",
              "      <td>0.181933</td>\n",
              "      <td>0.0</td>\n",
              "      <td>0.261367</td>\n",
              "      <td>0.142567</td>\n",
              "      <td>0.009933</td>\n",
              "      <td>0.004400</td>\n",
              "      <td>0.142567</td>\n",
              "      <td>0.093067</td>\n",
              "      <td>1.593997e+09</td>\n",
              "      <td>400.680314</td>\n",
              "      <td>16.178733</td>\n",
              "      <td>1.594013e+09</td>\n",
              "      <td>400.338600</td>\n",
              "      <td>6543.374654</td>\n",
              "      <td>44.457502</td>\n",
              "      <td>2.412010</td>\n",
              "    </tr>\n",
              "    <tr>\n",
              "      <th>std</th>\n",
              "      <td>8660.398374</td>\n",
              "      <td>8660.398374</td>\n",
              "      <td>207352.807352</td>\n",
              "      <td>201571.990938</td>\n",
              "      <td>2649.349722</td>\n",
              "      <td>270.425535</td>\n",
              "      <td>1914.970235</td>\n",
              "      <td>1792.621965</td>\n",
              "      <td>0.449722</td>\n",
              "      <td>0.0</td>\n",
              "      <td>0.385796</td>\n",
              "      <td>0.0</td>\n",
              "      <td>0.439387</td>\n",
              "      <td>0.349636</td>\n",
              "      <td>0.099172</td>\n",
              "      <td>0.066188</td>\n",
              "      <td>0.349636</td>\n",
              "      <td>0.290531</td>\n",
              "      <td>3.716182e+04</td>\n",
              "      <td>210.162520</td>\n",
              "      <td>29.071594</td>\n",
              "      <td>3.295150e+04</td>\n",
              "      <td>210.109513</td>\n",
              "      <td>12073.829355</td>\n",
              "      <td>76.070089</td>\n",
              "      <td>2.190836</td>\n",
              "    </tr>\n",
              "    <tr>\n",
              "      <th>min</th>\n",
              "      <td>0.000000</td>\n",
              "      <td>0.000000</td>\n",
              "      <td>101000.000000</td>\n",
              "      <td>101000.000000</td>\n",
              "      <td>0.000000</td>\n",
              "      <td>173.000000</td>\n",
              "      <td>0.000000</td>\n",
              "      <td>0.000000</td>\n",
              "      <td>0.000000</td>\n",
              "      <td>0.0</td>\n",
              "      <td>0.000000</td>\n",
              "      <td>0.0</td>\n",
              "      <td>0.000000</td>\n",
              "      <td>0.000000</td>\n",
              "      <td>0.000000</td>\n",
              "      <td>0.000000</td>\n",
              "      <td>0.000000</td>\n",
              "      <td>0.000000</td>\n",
              "      <td>1.593907e+09</td>\n",
              "      <td>173.000000</td>\n",
              "      <td>1.000000</td>\n",
              "      <td>1.593907e+09</td>\n",
              "      <td>173.000000</td>\n",
              "      <td>173.000000</td>\n",
              "      <td>1.139515</td>\n",
              "      <td>0.613825</td>\n",
              "    </tr>\n",
              "    <tr>\n",
              "      <th>25%</th>\n",
              "      <td>7499.750000</td>\n",
              "      <td>7499.750000</td>\n",
              "      <td>153038.000000</td>\n",
              "      <td>196233.000000</td>\n",
              "      <td>300.000000</td>\n",
              "      <td>263.000000</td>\n",
              "      <td>0.000000</td>\n",
              "      <td>0.000000</td>\n",
              "      <td>0.000000</td>\n",
              "      <td>0.0</td>\n",
              "      <td>0.000000</td>\n",
              "      <td>0.0</td>\n",
              "      <td>0.000000</td>\n",
              "      <td>0.000000</td>\n",
              "      <td>0.000000</td>\n",
              "      <td>0.000000</td>\n",
              "      <td>0.000000</td>\n",
              "      <td>0.000000</td>\n",
              "      <td>1.593961e+09</td>\n",
              "      <td>275.000000</td>\n",
              "      <td>2.000000</td>\n",
              "      <td>1.593989e+09</td>\n",
              "      <td>275.000000</td>\n",
              "      <td>792.000000</td>\n",
              "      <td>2.736820</td>\n",
              "      <td>1.079821</td>\n",
              "    </tr>\n",
              "    <tr>\n",
              "      <th>50%</th>\n",
              "      <td>14999.500000</td>\n",
              "      <td>14999.500000</td>\n",
              "      <td>367014.000000</td>\n",
              "      <td>400082.000000</td>\n",
              "      <td>800.000000</td>\n",
              "      <td>313.120000</td>\n",
              "      <td>0.000000</td>\n",
              "      <td>0.000000</td>\n",
              "      <td>1.000000</td>\n",
              "      <td>0.0</td>\n",
              "      <td>0.000000</td>\n",
              "      <td>0.0</td>\n",
              "      <td>0.000000</td>\n",
              "      <td>0.000000</td>\n",
              "      <td>0.000000</td>\n",
              "      <td>0.000000</td>\n",
              "      <td>0.000000</td>\n",
              "      <td>0.000000</td>\n",
              "      <td>1.594016e+09</td>\n",
              "      <td>343.733333</td>\n",
              "      <td>6.000000</td>\n",
              "      <td>1.594029e+09</td>\n",
              "      <td>343.000000</td>\n",
              "      <td>2102.130000</td>\n",
              "      <td>6.567690</td>\n",
              "      <td>1.691876</td>\n",
              "    </tr>\n",
              "    <tr>\n",
              "      <th>75%</th>\n",
              "      <td>22499.250000</td>\n",
              "      <td>22499.250000</td>\n",
              "      <td>620076.500000</td>\n",
              "      <td>628611.000000</td>\n",
              "      <td>2000.000000</td>\n",
              "      <td>457.000000</td>\n",
              "      <td>1.000000</td>\n",
              "      <td>0.000000</td>\n",
              "      <td>1.000000</td>\n",
              "      <td>0.0</td>\n",
              "      <td>0.000000</td>\n",
              "      <td>0.0</td>\n",
              "      <td>1.000000</td>\n",
              "      <td>0.000000</td>\n",
              "      <td>0.000000</td>\n",
              "      <td>0.000000</td>\n",
              "      <td>0.000000</td>\n",
              "      <td>0.000000</td>\n",
              "      <td>1.594030e+09</td>\n",
              "      <td>472.615385</td>\n",
              "      <td>15.000000</td>\n",
              "      <td>1.594034e+09</td>\n",
              "      <td>472.000000</td>\n",
              "      <td>5894.400000</td>\n",
              "      <td>34.799319</td>\n",
              "      <td>2.745752</td>\n",
              "    </tr>\n",
              "    <tr>\n",
              "      <th>max</th>\n",
              "      <td>29999.000000</td>\n",
              "      <td>29999.000000</td>\n",
              "      <td>694910.000000</td>\n",
              "      <td>694923.000000</td>\n",
              "      <td>20000.000000</td>\n",
              "      <td>5152.800000</td>\n",
              "      <td>45350.000000</td>\n",
              "      <td>45350.000000</td>\n",
              "      <td>1.000000</td>\n",
              "      <td>0.0</td>\n",
              "      <td>1.000000</td>\n",
              "      <td>0.0</td>\n",
              "      <td>1.000000</td>\n",
              "      <td>1.000000</td>\n",
              "      <td>1.000000</td>\n",
              "      <td>1.000000</td>\n",
              "      <td>1.000000</td>\n",
              "      <td>1.000000</td>\n",
              "      <td>1.594301e+09</td>\n",
              "      <td>5152.800000</td>\n",
              "      <td>177.000000</td>\n",
              "      <td>1.594301e+09</td>\n",
              "      <td>5152.000000</td>\n",
              "      <td>72182.390000</td>\n",
              "      <td>983.447934</td>\n",
              "      <td>13.765812</td>\n",
              "    </tr>\n",
              "  </tbody>\n",
              "</table>\n",
              "</div>"
            ],
            "text/plain": [
              "         Unnamed: 0  Unnamed: 0.1  ...      activity      solvency\n",
              "count  30000.000000  30000.000000  ...  30000.000000  30000.000000\n",
              "mean   14999.500000  14999.500000  ...     44.457502      2.412010\n",
              "std     8660.398374   8660.398374  ...     76.070089      2.190836\n",
              "min        0.000000      0.000000  ...      1.139515      0.613825\n",
              "25%     7499.750000   7499.750000  ...      2.736820      1.079821\n",
              "50%    14999.500000  14999.500000  ...      6.567690      1.691876\n",
              "75%    22499.250000  22499.250000  ...     34.799319      2.745752\n",
              "max    29999.000000  29999.000000  ...    983.447934     13.765812\n",
              "\n",
              "[8 rows x 26 columns]"
            ]
          },
          "metadata": {
            "tags": []
          },
          "execution_count": 489
        }
      ]
    },
    {
      "cell_type": "code",
      "metadata": {
        "id": "6lU49d-nMWYj",
        "colab_type": "code",
        "colab": {}
      },
      "source": [
        "if flag=='untreated':\n",
        "  df.to_csv('/content/Batch_normal.csv')"
      ],
      "execution_count": 490,
      "outputs": []
    },
    {
      "cell_type": "code",
      "metadata": {
        "id": "xX-JPkA9ABV3",
        "colab_type": "code",
        "colab": {}
      },
      "source": [
        ""
      ],
      "execution_count": 490,
      "outputs": []
    },
    {
      "cell_type": "code",
      "metadata": {
        "id": "f8yAIclfXEev",
        "colab_type": "code",
        "colab": {
          "base_uri": "https://localhost:8080/",
          "height": 74
        },
        "outputId": "b4273edc-709f-488c-95fc-50a72c33df53"
      },
      "source": [
        "X_sourse=df.iloc[:30000,4:28]\n",
        "# X_sourse=df.iloc[:10000,[4,5,6,7,8,9,10,23,22,21,20,19]]\n",
        "# std and norl\n",
        "# X_sourse=X_sourse.drop('ts',axis=1)\n",
        "# X_sourse=X_sourse.drop('max_data',axis=1)\n",
        "X = preprocessing.scale(X_sourse)"
      ],
      "execution_count": 521,
      "outputs": [
        {
          "output_type": "stream",
          "text": [
            "/usr/local/lib/python3.6/dist-packages/sklearn/preprocessing/_data.py:173: UserWarning: Numerical issues were encountered when centering the data and might not be solved. Dataset may contain too large values. You may need to prescale your features.\n",
            "  warnings.warn(\"Numerical issues were encountered \"\n"
          ],
          "name": "stderr"
        }
      ]
    },
    {
      "cell_type": "code",
      "metadata": {
        "id": "539d5F9wXYNH",
        "colab_type": "code",
        "colab": {}
      },
      "source": [
        "pca = decomposition.PCA(n_components=2)\n",
        "X_centered = X - X.mean(axis=0)\n",
        "pca.fit(X_centered)\n",
        "X_pca = pca.transform(X_centered)"
      ],
      "execution_count": 522,
      "outputs": []
    },
    {
      "cell_type": "code",
      "metadata": {
        "id": "4c9RxLDBXj-E",
        "colab_type": "code",
        "colab": {}
      },
      "source": [
        "# если не жалко время, то можно и этот метод\n",
        "#  t-SNE and PCA\n",
        "# tsne = TSNE(random_state=17)\n",
        "# X_tsne = tsne.fit_transform(X)"
      ],
      "execution_count": 493,
      "outputs": []
    },
    {
      "cell_type": "code",
      "metadata": {
        "id": "9DDZ54rrkWrC",
        "colab_type": "code",
        "colab": {}
      },
      "source": [
        "# plt.scatter(X_tsne[:, 0], X_tsne[:, 1], s = 50);\n",
        "# plt.show()"
      ],
      "execution_count": 494,
      "outputs": []
    },
    {
      "cell_type": "code",
      "metadata": {
        "id": "oWiKuhO3XZ0z",
        "colab_type": "code",
        "colab": {
          "base_uri": "https://localhost:8080/",
          "height": 268
        },
        "outputId": "fb91be3c-e0b5-421e-86d5-7619afe93eb6"
      },
      "source": [
        "plt.scatter(X_pca[:, 0], X_pca[:, 1], s = 50);\n",
        "plt.show()"
      ],
      "execution_count": 523,
      "outputs": [
        {
          "output_type": "display_data",
          "data": {
            "image/png": "[encoded data removed]",
            "text/plain": [
              "<Figure size 432x288 with 1 Axes>"
            ]
          },
          "metadata": {
            "tags": []
          }
        }
      ]
    },
    {
      "cell_type": "code",
      "metadata": {
        "id": "m7QQ6wrsXq--",
        "colab_type": "code",
        "colab": {}
      },
      "source": [
        "# algoritms\n",
        "# подбор алгоритма  и сравнение их\n",
        "# algorithms = []\n",
        "# algorithms.append(KMeans(n_clusters = 2,n_init = 100,random_state=17 ))\n",
        "# algorithms.append(AgglomerativeClustering(n_clusters = 2))\n",
        "# algorithms.append(SpectralClustering(n_clusters=2, random_state=1,\n",
        "#                                      affinity='nearest_neighbors'))\n",
        "# # algorithms.append(DBSCAN(eps=0.1, min_samples=5))\n",
        "# # algorithms.append(AffinityPropagation())\n",
        "\n",
        "# data = []\n",
        "# for algo in algorithms:\n",
        "#     algo.fit(X)\n",
        "#     print(algo)\n",
        "#     data.append(({\n",
        "#         # 'ARI': metrics.adjusted_rand_score(y, algo.labels_),\n",
        "#         # 'AMI': metrics.adjusted_mutual_info_score(y, algo.labels_),\n",
        "#         # 'Homogenity': metrics.homogeneity_score(y, algo.labels_),\n",
        "#         # 'Completeness': metrics.completeness_score(y, algo.labels_),\n",
        "#         # 'V-measure': metrics.v_measure_score(y, algo.labels_),\n",
        "      \n",
        "#         'Silhouette': metrics.silhouette_score(X, algo.labels_)}))\n",
        "# results = pd.DataFrame(data=data, columns=['Silhouette'], index=['K-means', 'Agglomerative','Spectral'])\n",
        "# results"
      ],
      "execution_count": 496,
      "outputs": []
    },
    {
      "cell_type": "code",
      "metadata": {
        "id": "Itq08D52aPFw",
        "colab_type": "code",
        "colab": {}
      },
      "source": [
        "#  подбор оптимального количества сегментов\n",
        "# loss=[]\n",
        "# for k in range(2, 10):\n",
        "#     kmeans = KMeans(n_clusters=k,n_init = 100,random_state=1).fit(X)\n",
        "#     loss_current=metrics.silhouette_score(X, kmeans.labels_)\n",
        "#     loss.append(loss_current)\n",
        "\n",
        "# plt.plot(range(2, 10), loss, marker='s');\n",
        "# plt.xlabel('$k$')\n",
        "# plt.ylabel('$J(C_k)$');"
      ],
      "execution_count": 497,
      "outputs": []
    },
    {
      "cell_type": "code",
      "metadata": {
        "id": "R0eEMNC5Xy_i",
        "colab_type": "code",
        "colab": {
          "base_uri": "https://localhost:8080/",
          "height": 74
        },
        "outputId": "40f2dde0-aad8-4ba5-b1d2-a64ef0a5e293"
      },
      "source": [
        "#  обучение моделей\n",
        "kmeans = KMeans(n_clusters = 3,n_init = 100,random_state=17 ).fit(X)\n",
        "sc = SpectralClustering(n_clusters=3, random_state=1, affinity='nearest_neighbors').fit(X)\n",
        "ac2 = AgglomerativeClustering(n_clusters = 3).fit(X)\n",
        "clustering = DBSCAN(eps=0.1, min_samples=5).fit(X)"
      ],
      "execution_count": 498,
      "outputs": [
        {
          "output_type": "stream",
          "text": [
            "/usr/local/lib/python3.6/dist-packages/sklearn/manifold/_spectral_embedding.py:236: UserWarning: Graph is not fully connected, spectral embedding may not work as expected.\n",
            "  warnings.warn(\"Graph is not fully connected, spectral embedding\"\n"
          ],
          "name": "stderr"
        }
      ]
    },
    {
      "cell_type": "code",
      "metadata": {
        "id": "qJEPE7UFX7_Z",
        "colab_type": "code",
        "colab": {
          "base_uri": "https://localhost:8080/",
          "height": 395
        },
        "outputId": "1fa2c7cc-ba34-4260-edce-e25429bd8ad5"
      },
      "source": [
        "# KMeans\n",
        "plt.figure(figsize =(6, 6))\n",
        "plt.scatter(X_pca[:, 0], X_pca[:, 1], c = kmeans.labels_, s = 50, cmap = 'viridis')"
      ],
      "execution_count": 524,
      "outputs": [
        {
          "output_type": "execute_result",
          "data": {
            "text/plain": [
              "<matplotlib.collections.PathCollection at 0x7fdb570682b0>"
            ]
          },
          "metadata": {
            "tags": []
          },
          "execution_count": 524
        },
        {
          "output_type": "display_data",
          "data": {
            "image/png": "[encoded data removed]",
            "text/plain": [
              "<Figure size 432x432 with 1 Axes>"
            ]
          },
          "metadata": {
            "tags": []
          }
        }
      ]
    },
    {
      "cell_type": "code",
      "metadata": {
        "id": "5fLkBvbsePBu",
        "colab_type": "code",
        "colab": {}
      },
      "source": [
        "# красивый график для KMeans\n",
        "# for i in range(0, X_pca.shape[0]):\n",
        "#     if kmeans.labels_[i] == 0:\n",
        "#         c1 = plt.scatter(X_pca[i, 0], X_pca[i, 1], c='r', marker='+')\n",
        "#     elif kmeans.labels_[i] == 1:\n",
        "#         c2 = plt.scatter(X_pca[i, 0], X_pca[i, 1], c='g', marker='o')\n",
        "#     elif kmeans.labels_[i] == 2:\n",
        "#         c3 = plt.scatter(X_pca[i, 0], X_pca[i, 1], c='b', marker='*')\n",
        "\n",
        "# plt.legend([c1, c2, c3], ['Кластер 1', 'Кластер 2', 'Кластер 3'])\n",
        "# plt.title('knn нашел 3 кластера')\n",
        "# plt.show()"
      ],
      "execution_count": 500,
      "outputs": []
    },
    {
      "cell_type": "code",
      "metadata": {
        "id": "lGzqNgfpX_nx",
        "colab_type": "code",
        "colab": {
          "base_uri": "https://localhost:8080/",
          "height": 395
        },
        "outputId": "58b33c27-e217-439b-8bc7-3022a12923b1"
      },
      "source": [
        "# sc\n",
        "plt.figure(figsize =(6, 6))\n",
        "plt.scatter(X_pca[:, 0], X_pca[:, 1], c = sc.labels_, s = 50, cmap = 'viridis')"
      ],
      "execution_count": 525,
      "outputs": [
        {
          "output_type": "execute_result",
          "data": {
            "text/plain": [
              "<matplotlib.collections.PathCollection at 0x7fdb56ffe8d0>"
            ]
          },
          "metadata": {
            "tags": []
          },
          "execution_count": 525
        },
        {
          "output_type": "display_data",
          "data": {
            "image/png": "[encoded data removed]",
            "text/plain": [
              "<Figure size 432x432 with 1 Axes>"
            ]
          },
          "metadata": {
            "tags": []
          }
        }
      ]
    },
    {
      "cell_type": "code",
      "metadata": {
        "id": "oltom2cyYBKp",
        "colab_type": "code",
        "colab": {
          "base_uri": "https://localhost:8080/",
          "height": 395
        },
        "outputId": "56955c3b-4b6e-41c1-9ef8-b7bfbfe0d6dc"
      },
      "source": [
        "# ac2\n",
        "plt.figure(figsize =(6, 6))\n",
        "plt.scatter(X_pca[:, 0], X_pca[:, 1], c = ac2.labels_, s = 50, cmap = 'viridis')\n"
      ],
      "execution_count": 526,
      "outputs": [
        {
          "output_type": "execute_result",
          "data": {
            "text/plain": [
              "<matplotlib.collections.PathCollection at 0x7fdb56f53f28>"
            ]
          },
          "metadata": {
            "tags": []
          },
          "execution_count": 526
        },
        {
          "output_type": "display_data",
          "data": {
            "image/png": "[encoded data removed]",
            "text/plain": [
              "<Figure size 432x432 with 1 Axes>"
            ]
          },
          "metadata": {
            "tags": []
          }
        }
      ]
    },
    {
      "cell_type": "code",
      "metadata": {
        "id": "2rojlcejqSMR",
        "colab_type": "code",
        "colab": {}
      },
      "source": [
        "c = kmeans.labels_\n",
        "first_class, = np.where(c == 0)\n",
        "second_class, = np.where(c == 1)\n",
        "third_class, = np.where(c == 2)\n"
      ],
      "execution_count": 527,
      "outputs": []
    },
    {
      "cell_type": "code",
      "metadata": {
        "id": "Y0yZv5d7wd3l",
        "colab_type": "code",
        "colab": {}
      },
      "source": [
        "first_class=X_sourse.iloc[first_class,:]\n",
        "second_class=X_sourse.iloc[second_class,:]\n",
        "third_class=X_sourse.iloc[third_class,:]"
      ],
      "execution_count": 528,
      "outputs": []
    },
    {
      "cell_type": "code",
      "metadata": {
        "id": "VQbGONCE6kxx",
        "colab_type": "code",
        "colab": {
          "base_uri": "https://localhost:8080/",
          "height": 325
        },
        "outputId": "65ea4c5d-004e-4112-90f4-7d19775e2468"
      },
      "source": [
        "first_class.describe()"
      ],
      "execution_count": 529,
      "outputs": [
        {
          "output_type": "execute_result",
          "data": {
            "text/html": [
              "<div>\n",
              "<style scoped>\n",
              "    .dataframe tbody tr th:only-of-type {\n",
              "        vertical-align: middle;\n",
              "    }\n",
              "\n",
              "    .dataframe tbody tr th {\n",
              "        vertical-align: top;\n",
              "    }\n",
              "\n",
              "    .dataframe thead th {\n",
              "        text-align: right;\n",
              "    }\n",
              "</style>\n",
              "<table border=\"1\" class=\"dataframe\">\n",
              "  <thead>\n",
              "    <tr style=\"text-align: right;\">\n",
              "      <th></th>\n",
              "      <th>sender_index</th>\n",
              "      <th>recipient_index</th>\n",
              "      <th>weight</th>\n",
              "      <th>cost</th>\n",
              "      <th>summa_OTS</th>\n",
              "      <th>summa_NP</th>\n",
              "      <th>blank_dispatch</th>\n",
              "      <th>parcel_post</th>\n",
              "      <th>accelerated</th>\n",
              "      <th>international</th>\n",
              "      <th>with_advert_value</th>\n",
              "      <th>with_imposition_payment</th>\n",
              "      <th>with_list_of_attachments</th>\n",
              "      <th>caution_mark</th>\n",
              "      <th>sms for sender</th>\n",
              "      <th>sms for recipient</th>\n",
              "      <th>ts</th>\n",
              "      <th>mean_user_cost</th>\n",
              "      <th>count_sum</th>\n",
              "      <th>max_data</th>\n",
              "      <th>ts_delta</th>\n",
              "      <th>sum_cost</th>\n",
              "      <th>activity</th>\n",
              "      <th>solvency</th>\n",
              "    </tr>\n",
              "  </thead>\n",
              "  <tbody>\n",
              "    <tr>\n",
              "      <th>count</th>\n",
              "      <td>4053.000000</td>\n",
              "      <td>4053.000000</td>\n",
              "      <td>4053.000000</td>\n",
              "      <td>4053.000000</td>\n",
              "      <td>4053.000000</td>\n",
              "      <td>4053.000000</td>\n",
              "      <td>4053.000000</td>\n",
              "      <td>4053.0</td>\n",
              "      <td>4053.000000</td>\n",
              "      <td>4053.0</td>\n",
              "      <td>4053.000000</td>\n",
              "      <td>4053.000000</td>\n",
              "      <td>4053.000000</td>\n",
              "      <td>4053.000000</td>\n",
              "      <td>4053.000000</td>\n",
              "      <td>4053.000000</td>\n",
              "      <td>4.053000e+03</td>\n",
              "      <td>4053.000000</td>\n",
              "      <td>4053.000000</td>\n",
              "      <td>4.053000e+03</td>\n",
              "      <td>4053.000000</td>\n",
              "      <td>4053.000000</td>\n",
              "      <td>4053.000000</td>\n",
              "      <td>4053.000000</td>\n",
              "    </tr>\n",
              "    <tr>\n",
              "      <th>mean</th>\n",
              "      <td>457578.448557</td>\n",
              "      <td>450307.865532</td>\n",
              "      <td>6620.120405</td>\n",
              "      <td>819.771098</td>\n",
              "      <td>386.952628</td>\n",
              "      <td>9.892672</td>\n",
              "      <td>0.901308</td>\n",
              "      <td>0.0</td>\n",
              "      <td>0.026400</td>\n",
              "      <td>0.0</td>\n",
              "      <td>0.333087</td>\n",
              "      <td>0.004935</td>\n",
              "      <td>0.004194</td>\n",
              "      <td>0.014804</td>\n",
              "      <td>0.004935</td>\n",
              "      <td>0.106588</td>\n",
              "      <td>1.594011e+09</td>\n",
              "      <td>731.799178</td>\n",
              "      <td>10.475204</td>\n",
              "      <td>1.594025e+09</td>\n",
              "      <td>731.407599</td>\n",
              "      <td>6816.698231</td>\n",
              "      <td>37.926599</td>\n",
              "      <td>3.307023</td>\n",
              "    </tr>\n",
              "    <tr>\n",
              "      <th>std</th>\n",
              "      <td>198800.733397</td>\n",
              "      <td>204072.109448</td>\n",
              "      <td>3893.196500</td>\n",
              "      <td>453.520125</td>\n",
              "      <td>1268.464426</td>\n",
              "      <td>257.410277</td>\n",
              "      <td>0.298285</td>\n",
              "      <td>0.0</td>\n",
              "      <td>0.160342</td>\n",
              "      <td>0.0</td>\n",
              "      <td>0.471375</td>\n",
              "      <td>0.070082</td>\n",
              "      <td>0.064636</td>\n",
              "      <td>0.120782</td>\n",
              "      <td>0.070082</td>\n",
              "      <td>0.308626</td>\n",
              "      <td>3.557216e+04</td>\n",
              "      <td>318.858795</td>\n",
              "      <td>17.356937</td>\n",
              "      <td>2.934785e+04</td>\n",
              "      <td>318.850442</td>\n",
              "      <td>10670.519912</td>\n",
              "      <td>73.835896</td>\n",
              "      <td>1.793648</td>\n",
              "    </tr>\n",
              "    <tr>\n",
              "      <th>min</th>\n",
              "      <td>105122.000000</td>\n",
              "      <td>101000.000000</td>\n",
              "      <td>14.000000</td>\n",
              "      <td>179.000000</td>\n",
              "      <td>0.000000</td>\n",
              "      <td>0.000000</td>\n",
              "      <td>0.000000</td>\n",
              "      <td>0.0</td>\n",
              "      <td>0.000000</td>\n",
              "      <td>0.0</td>\n",
              "      <td>0.000000</td>\n",
              "      <td>0.000000</td>\n",
              "      <td>0.000000</td>\n",
              "      <td>0.000000</td>\n",
              "      <td>0.000000</td>\n",
              "      <td>0.000000</td>\n",
              "      <td>1.593907e+09</td>\n",
              "      <td>306.780000</td>\n",
              "      <td>1.000000</td>\n",
              "      <td>1.593908e+09</td>\n",
              "      <td>306.000000</td>\n",
              "      <td>312.070000</td>\n",
              "      <td>1.139515</td>\n",
              "      <td>1.005815</td>\n",
              "    </tr>\n",
              "    <tr>\n",
              "      <th>25%</th>\n",
              "      <td>309642.000000</td>\n",
              "      <td>243559.000000</td>\n",
              "      <td>4194.000000</td>\n",
              "      <td>550.000000</td>\n",
              "      <td>0.000000</td>\n",
              "      <td>0.000000</td>\n",
              "      <td>1.000000</td>\n",
              "      <td>0.0</td>\n",
              "      <td>0.000000</td>\n",
              "      <td>0.0</td>\n",
              "      <td>0.000000</td>\n",
              "      <td>0.000000</td>\n",
              "      <td>0.000000</td>\n",
              "      <td>0.000000</td>\n",
              "      <td>0.000000</td>\n",
              "      <td>0.000000</td>\n",
              "      <td>1.594008e+09</td>\n",
              "      <td>536.705000</td>\n",
              "      <td>2.000000</td>\n",
              "      <td>1.594025e+09</td>\n",
              "      <td>536.000000</td>\n",
              "      <td>1472.800000</td>\n",
              "      <td>1.834946</td>\n",
              "      <td>2.162686</td>\n",
              "    </tr>\n",
              "    <tr>\n",
              "      <th>50%</th>\n",
              "      <td>453120.000000</td>\n",
              "      <td>445047.000000</td>\n",
              "      <td>6000.000000</td>\n",
              "      <td>682.000000</td>\n",
              "      <td>0.000000</td>\n",
              "      <td>0.000000</td>\n",
              "      <td>1.000000</td>\n",
              "      <td>0.0</td>\n",
              "      <td>0.000000</td>\n",
              "      <td>0.0</td>\n",
              "      <td>0.000000</td>\n",
              "      <td>0.000000</td>\n",
              "      <td>0.000000</td>\n",
              "      <td>0.000000</td>\n",
              "      <td>0.000000</td>\n",
              "      <td>0.000000</td>\n",
              "      <td>1.594025e+09</td>\n",
              "      <td>641.666667</td>\n",
              "      <td>5.000000</td>\n",
              "      <td>1.594032e+09</td>\n",
              "      <td>641.000000</td>\n",
              "      <td>3191.000000</td>\n",
              "      <td>6.506429</td>\n",
              "      <td>2.859822</td>\n",
              "    </tr>\n",
              "    <tr>\n",
              "      <th>75%</th>\n",
              "      <td>650904.000000</td>\n",
              "      <td>655614.000000</td>\n",
              "      <td>8565.000000</td>\n",
              "      <td>947.000000</td>\n",
              "      <td>100.000000</td>\n",
              "      <td>0.000000</td>\n",
              "      <td>1.000000</td>\n",
              "      <td>0.0</td>\n",
              "      <td>0.000000</td>\n",
              "      <td>0.0</td>\n",
              "      <td>1.000000</td>\n",
              "      <td>0.000000</td>\n",
              "      <td>0.000000</td>\n",
              "      <td>0.000000</td>\n",
              "      <td>0.000000</td>\n",
              "      <td>0.000000</td>\n",
              "      <td>1.594031e+09</td>\n",
              "      <td>828.935211</td>\n",
              "      <td>10.000000</td>\n",
              "      <td>1.594035e+09</td>\n",
              "      <td>828.000000</td>\n",
              "      <td>6613.600000</td>\n",
              "      <td>28.666953</td>\n",
              "      <td>3.787966</td>\n",
              "    </tr>\n",
              "    <tr>\n",
              "      <th>max</th>\n",
              "      <td>694820.000000</td>\n",
              "      <td>694920.000000</td>\n",
              "      <td>20000.000000</td>\n",
              "      <td>5152.800000</td>\n",
              "      <td>20000.000000</td>\n",
              "      <td>12950.000000</td>\n",
              "      <td>1.000000</td>\n",
              "      <td>0.0</td>\n",
              "      <td>1.000000</td>\n",
              "      <td>0.0</td>\n",
              "      <td>1.000000</td>\n",
              "      <td>1.000000</td>\n",
              "      <td>1.000000</td>\n",
              "      <td>1.000000</td>\n",
              "      <td>1.000000</td>\n",
              "      <td>1.000000</td>\n",
              "      <td>1.594301e+09</td>\n",
              "      <td>5152.800000</td>\n",
              "      <td>146.000000</td>\n",
              "      <td>1.594301e+09</td>\n",
              "      <td>5152.000000</td>\n",
              "      <td>58854.400000</td>\n",
              "      <td>720.948154</td>\n",
              "      <td>13.747611</td>\n",
              "    </tr>\n",
              "  </tbody>\n",
              "</table>\n",
              "</div>"
            ],
            "text/plain": [
              "        sender_index  recipient_index  ...     activity     solvency\n",
              "count    4053.000000      4053.000000  ...  4053.000000  4053.000000\n",
              "mean   457578.448557    450307.865532  ...    37.926599     3.307023\n",
              "std    198800.733397    204072.109448  ...    73.835896     1.793648\n",
              "min    105122.000000    101000.000000  ...     1.139515     1.005815\n",
              "25%    309642.000000    243559.000000  ...     1.834946     2.162686\n",
              "50%    453120.000000    445047.000000  ...     6.506429     2.859822\n",
              "75%    650904.000000    655614.000000  ...    28.666953     3.787966\n",
              "max    694820.000000    694920.000000  ...   720.948154    13.747611\n",
              "\n",
              "[8 rows x 24 columns]"
            ]
          },
          "metadata": {
            "tags": []
          },
          "execution_count": 529
        }
      ]
    },
    {
      "cell_type": "code",
      "metadata": {
        "id": "d8GsZ20T3INt",
        "colab_type": "code",
        "colab": {
          "base_uri": "https://localhost:8080/",
          "height": 343
        },
        "outputId": "3eb7cca6-9623-4ab2-85fb-50452a6dcf32"
      },
      "source": [
        "second_class.describe()"
      ],
      "execution_count": 530,
      "outputs": [
        {
          "output_type": "execute_result",
          "data": {
            "text/html": [
              "<div>\n",
              "<style scoped>\n",
              "    .dataframe tbody tr th:only-of-type {\n",
              "        vertical-align: middle;\n",
              "    }\n",
              "\n",
              "    .dataframe tbody tr th {\n",
              "        vertical-align: top;\n",
              "    }\n",
              "\n",
              "    .dataframe thead th {\n",
              "        text-align: right;\n",
              "    }\n",
              "</style>\n",
              "<table border=\"1\" class=\"dataframe\">\n",
              "  <thead>\n",
              "    <tr style=\"text-align: right;\">\n",
              "      <th></th>\n",
              "      <th>sender_index</th>\n",
              "      <th>recipient_index</th>\n",
              "      <th>weight</th>\n",
              "      <th>cost</th>\n",
              "      <th>summa_OTS</th>\n",
              "      <th>summa_NP</th>\n",
              "      <th>blank_dispatch</th>\n",
              "      <th>parcel_post</th>\n",
              "      <th>accelerated</th>\n",
              "      <th>international</th>\n",
              "      <th>with_advert_value</th>\n",
              "      <th>with_imposition_payment</th>\n",
              "      <th>with_list_of_attachments</th>\n",
              "      <th>caution_mark</th>\n",
              "      <th>sms for sender</th>\n",
              "      <th>sms for recipient</th>\n",
              "      <th>ts</th>\n",
              "      <th>mean_user_cost</th>\n",
              "      <th>count_sum</th>\n",
              "      <th>max_data</th>\n",
              "      <th>ts_delta</th>\n",
              "      <th>sum_cost</th>\n",
              "      <th>activity</th>\n",
              "      <th>solvency</th>\n",
              "    </tr>\n",
              "  </thead>\n",
              "  <tbody>\n",
              "    <tr>\n",
              "      <th>count</th>\n",
              "      <td>21675.000000</td>\n",
              "      <td>21675.000000</td>\n",
              "      <td>21675.000000</td>\n",
              "      <td>21675.000000</td>\n",
              "      <td>21675.000000</td>\n",
              "      <td>21675.0</td>\n",
              "      <td>21675.000000</td>\n",
              "      <td>21675.0</td>\n",
              "      <td>21675.000000</td>\n",
              "      <td>21675.0</td>\n",
              "      <td>21675.000000</td>\n",
              "      <td>21675.0</td>\n",
              "      <td>21675.000000</td>\n",
              "      <td>21675.000000</td>\n",
              "      <td>21675.0</td>\n",
              "      <td>21675.000000</td>\n",
              "      <td>2.167500e+04</td>\n",
              "      <td>21675.000000</td>\n",
              "      <td>21675.000000</td>\n",
              "      <td>2.167500e+04</td>\n",
              "      <td>21675.000000</td>\n",
              "      <td>21675.000000</td>\n",
              "      <td>21675.000000</td>\n",
              "      <td>21675.000000</td>\n",
              "    </tr>\n",
              "    <tr>\n",
              "      <th>mean</th>\n",
              "      <td>377482.558708</td>\n",
              "      <td>396376.174533</td>\n",
              "      <td>1025.122814</td>\n",
              "      <td>302.326746</td>\n",
              "      <td>53.289735</td>\n",
              "      <td>0.0</td>\n",
              "      <td>0.676678</td>\n",
              "      <td>0.0</td>\n",
              "      <td>0.205352</td>\n",
              "      <td>0.0</td>\n",
              "      <td>0.102376</td>\n",
              "      <td>0.0</td>\n",
              "      <td>0.001384</td>\n",
              "      <td>0.002907</td>\n",
              "      <td>0.0</td>\n",
              "      <td>0.081569</td>\n",
              "      <td>1.593995e+09</td>\n",
              "      <td>322.173983</td>\n",
              "      <td>13.019885</td>\n",
              "      <td>1.594011e+09</td>\n",
              "      <td>321.873725</td>\n",
              "      <td>4107.916997</td>\n",
              "      <td>41.960512</td>\n",
              "      <td>1.675312</td>\n",
              "    </tr>\n",
              "    <tr>\n",
              "      <th>std</th>\n",
              "      <td>201555.215822</td>\n",
              "      <td>200455.702306</td>\n",
              "      <td>1186.606660</td>\n",
              "      <td>96.561964</td>\n",
              "      <td>350.671905</td>\n",
              "      <td>0.0</td>\n",
              "      <td>0.467755</td>\n",
              "      <td>0.0</td>\n",
              "      <td>0.403968</td>\n",
              "      <td>0.0</td>\n",
              "      <td>0.303149</td>\n",
              "      <td>0.0</td>\n",
              "      <td>0.037178</td>\n",
              "      <td>0.053835</td>\n",
              "      <td>0.0</td>\n",
              "      <td>0.273713</td>\n",
              "      <td>3.705074e+04</td>\n",
              "      <td>96.257247</td>\n",
              "      <td>25.780286</td>\n",
              "      <td>3.319904e+04</td>\n",
              "      <td>96.197110</td>\n",
              "      <td>7831.580544</td>\n",
              "      <td>73.572103</td>\n",
              "      <td>1.269822</td>\n",
              "    </tr>\n",
              "    <tr>\n",
              "      <th>min</th>\n",
              "      <td>101000.000000</td>\n",
              "      <td>101000.000000</td>\n",
              "      <td>0.000000</td>\n",
              "      <td>173.000000</td>\n",
              "      <td>0.000000</td>\n",
              "      <td>0.0</td>\n",
              "      <td>0.000000</td>\n",
              "      <td>0.0</td>\n",
              "      <td>0.000000</td>\n",
              "      <td>0.0</td>\n",
              "      <td>0.000000</td>\n",
              "      <td>0.0</td>\n",
              "      <td>0.000000</td>\n",
              "      <td>0.000000</td>\n",
              "      <td>0.0</td>\n",
              "      <td>0.000000</td>\n",
              "      <td>1.593907e+09</td>\n",
              "      <td>173.000000</td>\n",
              "      <td>1.000000</td>\n",
              "      <td>1.593907e+09</td>\n",
              "      <td>173.000000</td>\n",
              "      <td>173.000000</td>\n",
              "      <td>1.608878</td>\n",
              "      <td>0.613825</td>\n",
              "    </tr>\n",
              "    <tr>\n",
              "      <th>25%</th>\n",
              "      <td>162512.000000</td>\n",
              "      <td>188640.000000</td>\n",
              "      <td>230.000000</td>\n",
              "      <td>238.000000</td>\n",
              "      <td>0.000000</td>\n",
              "      <td>0.0</td>\n",
              "      <td>0.000000</td>\n",
              "      <td>0.0</td>\n",
              "      <td>0.000000</td>\n",
              "      <td>0.0</td>\n",
              "      <td>0.000000</td>\n",
              "      <td>0.0</td>\n",
              "      <td>0.000000</td>\n",
              "      <td>0.000000</td>\n",
              "      <td>0.0</td>\n",
              "      <td>0.000000</td>\n",
              "      <td>1.593959e+09</td>\n",
              "      <td>260.667619</td>\n",
              "      <td>2.000000</td>\n",
              "      <td>1.593984e+09</td>\n",
              "      <td>260.000000</td>\n",
              "      <td>626.000000</td>\n",
              "      <td>2.743904</td>\n",
              "      <td>0.969716</td>\n",
              "    </tr>\n",
              "    <tr>\n",
              "      <th>50%</th>\n",
              "      <td>367014.000000</td>\n",
              "      <td>390511.000000</td>\n",
              "      <td>579.000000</td>\n",
              "      <td>288.000000</td>\n",
              "      <td>0.000000</td>\n",
              "      <td>0.0</td>\n",
              "      <td>1.000000</td>\n",
              "      <td>0.0</td>\n",
              "      <td>0.000000</td>\n",
              "      <td>0.0</td>\n",
              "      <td>0.000000</td>\n",
              "      <td>0.0</td>\n",
              "      <td>0.000000</td>\n",
              "      <td>0.000000</td>\n",
              "      <td>0.0</td>\n",
              "      <td>0.000000</td>\n",
              "      <td>1.594008e+09</td>\n",
              "      <td>302.312500</td>\n",
              "      <td>5.000000</td>\n",
              "      <td>1.594028e+09</td>\n",
              "      <td>302.000000</td>\n",
              "      <td>1554.080000</td>\n",
              "      <td>5.479982</td>\n",
              "      <td>1.287773</td>\n",
              "    </tr>\n",
              "    <tr>\n",
              "      <th>75%</th>\n",
              "      <td>614064.000000</td>\n",
              "      <td>624182.500000</td>\n",
              "      <td>1222.000000</td>\n",
              "      <td>342.000000</td>\n",
              "      <td>0.000000</td>\n",
              "      <td>0.0</td>\n",
              "      <td>1.000000</td>\n",
              "      <td>0.0</td>\n",
              "      <td>0.000000</td>\n",
              "      <td>0.0</td>\n",
              "      <td>0.000000</td>\n",
              "      <td>0.0</td>\n",
              "      <td>0.000000</td>\n",
              "      <td>0.000000</td>\n",
              "      <td>0.0</td>\n",
              "      <td>0.000000</td>\n",
              "      <td>1.594030e+09</td>\n",
              "      <td>372.249412</td>\n",
              "      <td>12.000000</td>\n",
              "      <td>1.594034e+09</td>\n",
              "      <td>372.000000</td>\n",
              "      <td>4052.020000</td>\n",
              "      <td>28.951457</td>\n",
              "      <td>1.939786</td>\n",
              "    </tr>\n",
              "    <tr>\n",
              "      <th>max</th>\n",
              "      <td>694910.000000</td>\n",
              "      <td>694923.000000</td>\n",
              "      <td>8974.000000</td>\n",
              "      <td>1200.000000</td>\n",
              "      <td>11000.000000</td>\n",
              "      <td>0.0</td>\n",
              "      <td>1.000000</td>\n",
              "      <td>0.0</td>\n",
              "      <td>1.000000</td>\n",
              "      <td>0.0</td>\n",
              "      <td>1.000000</td>\n",
              "      <td>0.0</td>\n",
              "      <td>1.000000</td>\n",
              "      <td>1.000000</td>\n",
              "      <td>0.0</td>\n",
              "      <td>1.000000</td>\n",
              "      <td>1.594301e+09</td>\n",
              "      <td>825.700000</td>\n",
              "      <td>177.000000</td>\n",
              "      <td>1.594301e+09</td>\n",
              "      <td>825.000000</td>\n",
              "      <td>56467.090000</td>\n",
              "      <td>983.447934</td>\n",
              "      <td>10.694919</td>\n",
              "    </tr>\n",
              "  </tbody>\n",
              "</table>\n",
              "</div>"
            ],
            "text/plain": [
              "        sender_index  recipient_index  ...      activity      solvency\n",
              "count   21675.000000     21675.000000  ...  21675.000000  21675.000000\n",
              "mean   377482.558708    396376.174533  ...     41.960512      1.675312\n",
              "std    201555.215822    200455.702306  ...     73.572103      1.269822\n",
              "min    101000.000000    101000.000000  ...      1.608878      0.613825\n",
              "25%    162512.000000    188640.000000  ...      2.743904      0.969716\n",
              "50%    367014.000000    390511.000000  ...      5.479982      1.287773\n",
              "75%    614064.000000    624182.500000  ...     28.951457      1.939786\n",
              "max    694910.000000    694923.000000  ...    983.447934     10.694919\n",
              "\n",
              "[8 rows x 24 columns]"
            ]
          },
          "metadata": {
            "tags": []
          },
          "execution_count": 530
        }
      ]
    },
    {
      "cell_type": "code",
      "metadata": {
        "id": "mMuwEyLm3JKL",
        "colab_type": "code",
        "colab": {
          "base_uri": "https://localhost:8080/",
          "height": 325
        },
        "outputId": "11285fdc-c764-4d69-f43d-699b219e2118"
      },
      "source": [
        "third_class.describe()"
      ],
      "execution_count": 532,
      "outputs": [
        {
          "output_type": "execute_result",
          "data": {
            "text/html": [
              "<div>\n",
              "<style scoped>\n",
              "    .dataframe tbody tr th:only-of-type {\n",
              "        vertical-align: middle;\n",
              "    }\n",
              "\n",
              "    .dataframe tbody tr th {\n",
              "        vertical-align: top;\n",
              "    }\n",
              "\n",
              "    .dataframe thead th {\n",
              "        text-align: right;\n",
              "    }\n",
              "</style>\n",
              "<table border=\"1\" class=\"dataframe\">\n",
              "  <thead>\n",
              "    <tr style=\"text-align: right;\">\n",
              "      <th></th>\n",
              "      <th>sender_index</th>\n",
              "      <th>recipient_index</th>\n",
              "      <th>weight</th>\n",
              "      <th>cost</th>\n",
              "      <th>summa_OTS</th>\n",
              "      <th>summa_NP</th>\n",
              "      <th>blank_dispatch</th>\n",
              "      <th>parcel_post</th>\n",
              "      <th>accelerated</th>\n",
              "      <th>international</th>\n",
              "      <th>with_advert_value</th>\n",
              "      <th>with_imposition_payment</th>\n",
              "      <th>with_list_of_attachments</th>\n",
              "      <th>caution_mark</th>\n",
              "      <th>sms for sender</th>\n",
              "      <th>sms for recipient</th>\n",
              "      <th>ts</th>\n",
              "      <th>mean_user_cost</th>\n",
              "      <th>count_sum</th>\n",
              "      <th>max_data</th>\n",
              "      <th>ts_delta</th>\n",
              "      <th>sum_cost</th>\n",
              "      <th>activity</th>\n",
              "      <th>solvency</th>\n",
              "    </tr>\n",
              "  </thead>\n",
              "  <tbody>\n",
              "    <tr>\n",
              "      <th>count</th>\n",
              "      <td>4272.000000</td>\n",
              "      <td>4272.000000</td>\n",
              "      <td>4272.000000</td>\n",
              "      <td>4272.000000</td>\n",
              "      <td>4272.000000</td>\n",
              "      <td>4272.000000</td>\n",
              "      <td>4272.000000</td>\n",
              "      <td>4272.0</td>\n",
              "      <td>4272.000000</td>\n",
              "      <td>4272.0</td>\n",
              "      <td>4272.0</td>\n",
              "      <td>4272.000000</td>\n",
              "      <td>4272.000000</td>\n",
              "      <td>4272.000000</td>\n",
              "      <td>4272.000000</td>\n",
              "      <td>4272.000000</td>\n",
              "      <td>4.272000e+03</td>\n",
              "      <td>4272.000000</td>\n",
              "      <td>4272.000000</td>\n",
              "      <td>4.272000e+03</td>\n",
              "      <td>4272.000000</td>\n",
              "      <td>4272.000000</td>\n",
              "      <td>4272.000000</td>\n",
              "      <td>4272.000000</td>\n",
              "    </tr>\n",
              "    <tr>\n",
              "      <th>mean</th>\n",
              "      <td>308177.493914</td>\n",
              "      <td>462925.559223</td>\n",
              "      <td>1010.131788</td>\n",
              "      <td>502.093853</td>\n",
              "      <td>4115.982444</td>\n",
              "      <td>4035.395131</td>\n",
              "      <td>0.757491</td>\n",
              "      <td>0.0</td>\n",
              "      <td>0.210674</td>\n",
              "      <td>0.0</td>\n",
              "      <td>1.0</td>\n",
              "      <td>0.996489</td>\n",
              "      <td>0.058755</td>\n",
              "      <td>0.002107</td>\n",
              "      <td>0.996489</td>\n",
              "      <td>0.138577</td>\n",
              "      <td>1.593993e+09</td>\n",
              "      <td>484.856332</td>\n",
              "      <td>37.617041</td>\n",
              "      <td>1.594017e+09</td>\n",
              "      <td>484.351592</td>\n",
              "      <td>18640.931831</td>\n",
              "      <td>63.322675</td>\n",
              "      <td>5.300692</td>\n",
              "    </tr>\n",
              "    <tr>\n",
              "      <th>std</th>\n",
              "      <td>217842.357907</td>\n",
              "      <td>191700.929461</td>\n",
              "      <td>1435.317728</td>\n",
              "      <td>212.493604</td>\n",
              "      <td>3118.236038</td>\n",
              "      <td>2924.083161</td>\n",
              "      <td>0.428651</td>\n",
              "      <td>0.0</td>\n",
              "      <td>0.407835</td>\n",
              "      <td>0.0</td>\n",
              "      <td>0.0</td>\n",
              "      <td>0.059158</td>\n",
              "      <td>0.235193</td>\n",
              "      <td>0.045856</td>\n",
              "      <td>0.059158</td>\n",
              "      <td>0.345545</td>\n",
              "      <td>3.639846e+04</td>\n",
              "      <td>156.035611</td>\n",
              "      <td>41.671299</td>\n",
              "      <td>3.219992e+04</td>\n",
              "      <td>156.032719</td>\n",
              "      <td>20690.438487</td>\n",
              "      <td>87.039983</td>\n",
              "      <td>3.258402</td>\n",
              "    </tr>\n",
              "    <tr>\n",
              "      <th>min</th>\n",
              "      <td>101000.000000</td>\n",
              "      <td>101000.000000</td>\n",
              "      <td>1.000000</td>\n",
              "      <td>204.450000</td>\n",
              "      <td>1.000000</td>\n",
              "      <td>0.000000</td>\n",
              "      <td>0.000000</td>\n",
              "      <td>0.0</td>\n",
              "      <td>0.000000</td>\n",
              "      <td>0.0</td>\n",
              "      <td>1.0</td>\n",
              "      <td>0.000000</td>\n",
              "      <td>0.000000</td>\n",
              "      <td>0.000000</td>\n",
              "      <td>0.000000</td>\n",
              "      <td>0.000000</td>\n",
              "      <td>1.593907e+09</td>\n",
              "      <td>184.828571</td>\n",
              "      <td>1.000000</td>\n",
              "      <td>1.593908e+09</td>\n",
              "      <td>184.000000</td>\n",
              "      <td>207.430000</td>\n",
              "      <td>1.241173</td>\n",
              "      <td>1.749395</td>\n",
              "    </tr>\n",
              "    <tr>\n",
              "      <th>25%</th>\n",
              "      <td>115446.000000</td>\n",
              "      <td>344015.750000</td>\n",
              "      <td>332.250000</td>\n",
              "      <td>369.037500</td>\n",
              "      <td>2090.000000</td>\n",
              "      <td>2055.250000</td>\n",
              "      <td>1.000000</td>\n",
              "      <td>0.0</td>\n",
              "      <td>0.000000</td>\n",
              "      <td>0.0</td>\n",
              "      <td>1.0</td>\n",
              "      <td>1.000000</td>\n",
              "      <td>0.000000</td>\n",
              "      <td>0.000000</td>\n",
              "      <td>1.000000</td>\n",
              "      <td>0.000000</td>\n",
              "      <td>1.593964e+09</td>\n",
              "      <td>382.221250</td>\n",
              "      <td>6.000000</td>\n",
              "      <td>1.593991e+09</td>\n",
              "      <td>382.000000</td>\n",
              "      <td>2463.830000</td>\n",
              "      <td>4.669011</td>\n",
              "      <td>2.784591</td>\n",
              "    </tr>\n",
              "    <tr>\n",
              "      <th>50%</th>\n",
              "      <td>190005.000000</td>\n",
              "      <td>450112.000000</td>\n",
              "      <td>500.000000</td>\n",
              "      <td>458.435000</td>\n",
              "      <td>3429.500000</td>\n",
              "      <td>3390.000000</td>\n",
              "      <td>1.000000</td>\n",
              "      <td>0.0</td>\n",
              "      <td>0.000000</td>\n",
              "      <td>0.0</td>\n",
              "      <td>1.0</td>\n",
              "      <td>1.000000</td>\n",
              "      <td>0.000000</td>\n",
              "      <td>0.000000</td>\n",
              "      <td>1.000000</td>\n",
              "      <td>0.000000</td>\n",
              "      <td>1.593991e+09</td>\n",
              "      <td>463.725714</td>\n",
              "      <td>20.000000</td>\n",
              "      <td>1.594032e+09</td>\n",
              "      <td>463.000000</td>\n",
              "      <td>10369.650000</td>\n",
              "      <td>17.317184</td>\n",
              "      <td>4.145265</td>\n",
              "    </tr>\n",
              "    <tr>\n",
              "      <th>75%</th>\n",
              "      <td>601782.000000</td>\n",
              "      <td>652056.500000</td>\n",
              "      <td>1000.000000</td>\n",
              "      <td>576.660000</td>\n",
              "      <td>5300.000000</td>\n",
              "      <td>5290.000000</td>\n",
              "      <td>1.000000</td>\n",
              "      <td>0.0</td>\n",
              "      <td>0.000000</td>\n",
              "      <td>0.0</td>\n",
              "      <td>1.0</td>\n",
              "      <td>1.000000</td>\n",
              "      <td>0.000000</td>\n",
              "      <td>0.000000</td>\n",
              "      <td>1.000000</td>\n",
              "      <td>0.000000</td>\n",
              "      <td>1.594030e+09</td>\n",
              "      <td>534.684370</td>\n",
              "      <td>54.000000</td>\n",
              "      <td>1.594036e+09</td>\n",
              "      <td>534.000000</td>\n",
              "      <td>27376.630000</td>\n",
              "      <td>115.410049</td>\n",
              "      <td>6.838384</td>\n",
              "    </tr>\n",
              "    <tr>\n",
              "      <th>max</th>\n",
              "      <td>692922.000000</td>\n",
              "      <td>694920.000000</td>\n",
              "      <td>17950.000000</td>\n",
              "      <td>3658.680000</td>\n",
              "      <td>45350.000000</td>\n",
              "      <td>45350.000000</td>\n",
              "      <td>1.000000</td>\n",
              "      <td>0.0</td>\n",
              "      <td>1.000000</td>\n",
              "      <td>0.0</td>\n",
              "      <td>1.0</td>\n",
              "      <td>1.000000</td>\n",
              "      <td>1.000000</td>\n",
              "      <td>1.000000</td>\n",
              "      <td>1.000000</td>\n",
              "      <td>1.000000</td>\n",
              "      <td>1.594204e+09</td>\n",
              "      <td>2232.840000</td>\n",
              "      <td>146.000000</td>\n",
              "      <td>1.594204e+09</td>\n",
              "      <td>2232.000000</td>\n",
              "      <td>72182.390000</td>\n",
              "      <td>618.266662</td>\n",
              "      <td>13.765812</td>\n",
              "    </tr>\n",
              "  </tbody>\n",
              "</table>\n",
              "</div>"
            ],
            "text/plain": [
              "        sender_index  recipient_index  ...     activity     solvency\n",
              "count    4272.000000      4272.000000  ...  4272.000000  4272.000000\n",
              "mean   308177.493914    462925.559223  ...    63.322675     5.300692\n",
              "std    217842.357907    191700.929461  ...    87.039983     3.258402\n",
              "min    101000.000000    101000.000000  ...     1.241173     1.749395\n",
              "25%    115446.000000    344015.750000  ...     4.669011     2.784591\n",
              "50%    190005.000000    450112.000000  ...    17.317184     4.145265\n",
              "75%    601782.000000    652056.500000  ...   115.410049     6.838384\n",
              "max    692922.000000    694920.000000  ...   618.266662    13.765812\n",
              "\n",
              "[8 rows x 24 columns]"
            ]
          },
          "metadata": {
            "tags": []
          },
          "execution_count": 532
        }
      ]
    },
    {
      "cell_type": "code",
      "metadata": {
        "id": "-MQSiPjRupVM",
        "colab_type": "code",
        "colab": {}
      },
      "source": [
        "# считаем суммы\n",
        "# third_class.describe().loc['count','cost']*third_class.describe().loc['mean','sum_cost']"
      ],
      "execution_count": 508,
      "outputs": []
    },
    {
      "cell_type": "code",
      "metadata": {
        "id": "7V0WHZvSxFYz",
        "colab_type": "code",
        "colab": {}
      },
      "source": [
        "# sns_plot = sns.distplot(third_class['sum_cost'])\n",
        "# fig = sns_plot.get_figure()\n"
      ],
      "execution_count": 509,
      "outputs": []
    },
    {
      "cell_type": "code",
      "metadata": {
        "id": "gU9eFKHm8zW7",
        "colab_type": "code",
        "colab": {}
      },
      "source": [
        "df_metrics=first_class.loc[:,['solvency','activity']]\n",
        "df_metrics_normalize = preprocessing.MinMaxScaler(df_metrics)\n",
        "# df_metrics_normalize= preprocessing.scale(df_metrics)"
      ],
      "execution_count": 556,
      "outputs": []
    },
    {
      "cell_type": "code",
      "metadata": {
        "id": "Fs58wSuy9J8g",
        "colab_type": "code",
        "colab": {
          "base_uri": "https://localhost:8080/",
          "height": 198
        },
        "outputId": "acc171cc-6d94-4a47-c7e5-20e6be392f5b"
      },
      "source": [
        "df_metrics.head()\n"
      ],
      "execution_count": 539,
      "outputs": [
        {
          "output_type": "execute_result",
          "data": {
            "text/html": [
              "<div>\n",
              "<style scoped>\n",
              "    .dataframe tbody tr th:only-of-type {\n",
              "        vertical-align: middle;\n",
              "    }\n",
              "\n",
              "    .dataframe tbody tr th {\n",
              "        vertical-align: top;\n",
              "    }\n",
              "\n",
              "    .dataframe thead th {\n",
              "        text-align: right;\n",
              "    }\n",
              "</style>\n",
              "<table border=\"1\" class=\"dataframe\">\n",
              "  <thead>\n",
              "    <tr style=\"text-align: right;\">\n",
              "      <th></th>\n",
              "      <th>solvency</th>\n",
              "      <th>activity</th>\n",
              "    </tr>\n",
              "  </thead>\n",
              "  <tbody>\n",
              "    <tr>\n",
              "      <th>5</th>\n",
              "      <td>4.059230</td>\n",
              "      <td>1.406944</td>\n",
              "    </tr>\n",
              "    <tr>\n",
              "      <th>23</th>\n",
              "      <td>3.612685</td>\n",
              "      <td>1.443123</td>\n",
              "    </tr>\n",
              "    <tr>\n",
              "      <th>60</th>\n",
              "      <td>3.612685</td>\n",
              "      <td>3.176656</td>\n",
              "    </tr>\n",
              "    <tr>\n",
              "      <th>64</th>\n",
              "      <td>4.059230</td>\n",
              "      <td>2.663381</td>\n",
              "    </tr>\n",
              "    <tr>\n",
              "      <th>118</th>\n",
              "      <td>3.252145</td>\n",
              "      <td>26.231285</td>\n",
              "    </tr>\n",
              "  </tbody>\n",
              "</table>\n",
              "</div>"
            ],
            "text/plain": [
              "     solvency   activity\n",
              "5    4.059230   1.406944\n",
              "23   3.612685   1.443123\n",
              "60   3.612685   3.176656\n",
              "64   4.059230   2.663381\n",
              "118  3.252145  26.231285"
            ]
          },
          "metadata": {
            "tags": []
          },
          "execution_count": 539
        }
      ]
    },
    {
      "cell_type": "code",
      "metadata": {
        "id": "Ag3LnlRD9Ll-",
        "colab_type": "code",
        "colab": {
          "base_uri": "https://localhost:8080/",
          "height": 290
        },
        "outputId": "9e39c21b-d53d-4301-c862-b16335965b79"
      },
      "source": [
        "df_metrics_normalize"
      ],
      "execution_count": 558,
      "outputs": [
        {
          "output_type": "execute_result",
          "data": {
            "text/plain": [
              "MinMaxScaler(copy=True,\n",
              "             feature_range=       solvency   activity\n",
              "5      4.059230   1.406944\n",
              "23     3.612685   1.443123\n",
              "60     3.612685   3.176656\n",
              "64     4.059230   2.663381\n",
              "118    3.252145  26.231285\n",
              "...         ...        ...\n",
              "29973  2.592237   1.772891\n",
              "29982  1.720932   1.715958\n",
              "29985  1.782245   1.790850\n",
              "29992  4.323428   1.312963\n",
              "29994  2.038329   1.983018\n",
              "\n",
              "[4053 rows x 2 columns])"
            ]
          },
          "metadata": {
            "tags": []
          },
          "execution_count": 558
        }
      ]
    },
    {
      "cell_type": "code",
      "metadata": {
        "id": "WIdxTBiR-UYm",
        "colab_type": "code",
        "colab": {
          "base_uri": "https://localhost:8080/",
          "height": 285
        },
        "outputId": "bc3d92c2-706a-46b2-9fd4-460a9777bfb2"
      },
      "source": [
        "sns_plot = sns.distplot(third_class['activity'])\n",
        "fig = sns_plot.get_figure()"
      ],
      "execution_count": 548,
      "outputs": [
        {
          "output_type": "display_data",
          "data": {
            "image/png": "[encoded data removed]",
            "text/plain": [
              "<Figure size 432x288 with 1 Axes>"
            ]
          },
          "metadata": {
            "tags": []
          }
        }
      ]
    },
    {
      "cell_type": "code",
      "metadata": {
        "id": "3-ZiWMxY-gX4",
        "colab_type": "code",
        "colab": {
          "base_uri": "https://localhost:8080/",
          "height": 268
        },
        "outputId": "cf698408-ae5e-4f19-85aa-c8e346c8c8e5"
      },
      "source": [
        "sns_plot = sns.distplot(df_metrics_normalize[:,1])\n",
        "fig = sns_plot.get_figure()"
      ],
      "execution_count": 555,
      "outputs": [
        {
          "output_type": "display_data",
          "data": {
            "image/png": "[encoded data removed]",
            "text/plain": [
              "<Figure size 432x288 with 1 Axes>"
            ]
          },
          "metadata": {
            "tags": []
          }
        }
      ]
    },
    {
      "cell_type": "code",
      "metadata": {
        "id": "G3u5THbCksCI",
        "colab_type": "code",
        "colab": {
          "base_uri": "https://localhost:8080/",
          "height": 395
        },
        "outputId": "fa3d9ba3-c294-4d58-caf6-22438704454c"
      },
      "source": [
        "# распределение активности и платежеспособности \n",
        "plt.figure(figsize =(6, 6))\n",
        "plt.scatter(df_metrics_normalize[:,1], df_metrics_normalize[:,0], s = 50, cmap = 'viridis', )"
      ],
      "execution_count": 550,
      "outputs": [
        {
          "output_type": "execute_result",
          "data": {
            "text/plain": [
              "<matplotlib.collections.PathCollection at 0x7fdb56c25780>"
            ]
          },
          "metadata": {
            "tags": []
          },
          "execution_count": 550
        },
        {
          "output_type": "display_data",
          "data": {
            "image/png": "[encoded data removed]",
            "text/plain": [
              "<Figure size 432x432 with 1 Axes>"
            ]
          },
          "metadata": {
            "tags": []
          }
        }
      ]
    },
    {
      "cell_type": "code",
      "metadata": {
        "id": "EreAOevL4cbr",
        "colab_type": "code",
        "colab": {}
      },
      "source": [
        "first_class.to_csv('first_class.csv')\n",
        "second_class.to_csv('second_class.csv')\n",
        "third_class.to_csv('third_class.csv')"
      ],
      "execution_count": 534,
      "outputs": []
    }
  ]
}